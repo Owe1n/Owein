{
 "cells": [
  {
   "cell_type": "code",
   "execution_count": 224,
   "metadata": {},
   "outputs": [],
   "source": [
    "import pandas as pd"
   ]
  },
  {
   "cell_type": "code",
   "execution_count": 225,
   "metadata": {},
   "outputs": [],
   "source": [
    "import os\n",
    "os.environ[\"OPENAI_API_KEY\"] = '....'"
   ]
  },
  {
   "cell_type": "code",
   "execution_count": 226,
   "metadata": {},
   "outputs": [],
   "source": [
    "df = pd.read_csv('metropolitan_highlight.csv')\n",
    "df[\"build_date\"] = df.apply(lambda row: f\"{row.object_begin_date} - {row.object_end_date}\", axis=1)\n",
    "df = df[[\"title\",\"artist_display_name\",\"build_date\",\"credit_line\",\"accessionyear\",\"department\",\"medium\",\"dimensions\",\"description\"]]"
   ]
  },
  {
   "cell_type": "code",
   "execution_count": 227,
   "metadata": {},
   "outputs": [],
   "source": [
    "from langchain.document_loaders import DataFrameLoader\n",
    "loader = DataFrameLoader(df, page_content_column=\"description\")\n",
    "documents = loader.load()"
   ]
  },
  {
   "cell_type": "code",
   "execution_count": 228,
   "metadata": {},
   "outputs": [],
   "source": [
    "from langchain.text_splitter import CharacterTextSplitter\n",
    "text_splitter = CharacterTextSplitter(chunk_size=1000, chunk_overlap=0)\n",
    "docs = text_splitter.split_documents(documents)"
   ]
  },
  {
   "cell_type": "code",
   "execution_count": 1,
   "metadata": {},
   "outputs": [
    {
     "name": "stderr",
     "output_type": "stream",
     "text": [
      "/Users/owein/Desktop/chain_lib/venv/lib/python3.9/site-packages/tqdm/auto.py:21: TqdmWarning: IProgress not found. Please update jupyter and ipywidgets. See https://ipywidgets.readthedocs.io/en/stable/user_install.html\n",
      "  from .autonotebook import tqdm as notebook_tqdm\n",
      "Downloading pytorch_model.bin: 100%|██████████| 438M/438M [01:52<00:00, 3.90MB/s] \n",
      "Downloading (…)nce_bert_config.json: 100%|██████████| 53.0/53.0 [00:00<00:00, 21.1kB/s]\n",
      "Downloading (…)cial_tokens_map.json: 100%|██████████| 239/239 [00:00<00:00, 86.8kB/s]\n",
      "Downloading (…)a8e1d/tokenizer.json: 100%|██████████| 466k/466k [00:00<00:00, 3.36MB/s]\n",
      "Downloading (…)okenizer_config.json: 100%|██████████| 363/363 [00:00<00:00, 158kB/s]\n",
      "Downloading (…)8e1d/train_script.py: 100%|██████████| 13.1k/13.1k [00:00<00:00, 4.41MB/s]\n",
      "Downloading (…)b20bca8e1d/vocab.txt: 100%|██████████| 232k/232k [00:00<00:00, 1.15MB/s]\n",
      "Downloading (…)bca8e1d/modules.json: 100%|██████████| 349/349 [00:00<00:00, 157kB/s]\n"
     ]
    }
   ],
   "source": [
    "from langchain.embeddings import HuggingFaceEmbeddings\n",
    "\n",
    "model_name = \"sentence-transformers/all-mpnet-base-v2\"\n",
    "model_kwargs = {'device': 'cpu'}\n",
    "encode_kwargs = {'normalize_embeddings': False}\n",
    "embeddings = HuggingFaceEmbeddings(\n",
    "    model_name=model_name,\n",
    "    model_kwargs=model_kwargs,\n",
    "    encode_kwargs=encode_kwargs\n",
    ")"
   ]
  },
  {
   "cell_type": "code",
   "execution_count": 22,
   "metadata": {},
   "outputs": [],
   "source": [
    "from langchain.vectorstores import FAISS\n",
    "db = FAISS.from_documents(docs, embeddings)\n",
    "db.save_local(\"faiss_index\")\n"
   ]
  },
  {
   "cell_type": "code",
   "execution_count": 8,
   "metadata": {},
   "outputs": [],
   "source": [
    "from langchain.vectorstores import FAISS\n",
    "db = FAISS.load_local(\"faiss_index\", embeddings)\n"
   ]
  },
  {
   "cell_type": "code",
   "execution_count": 30,
   "metadata": {},
   "outputs": [],
   "source": [
    "retriever = db.as_retriever(search_kwargs={\"k\": 3, \"search_type\":\"cosine\"})\n"
   ]
  },
  {
   "cell_type": "code",
   "execution_count": 31,
   "metadata": {},
   "outputs": [
    {
     "data": {
      "text/plain": [
       "[Document(page_content='At Gloucester, Homer produced a series of watercolors focusing on the daily activities of local children, whether boating, helping with chores, or playing among the dunes and wharves. In A Basket of Clams, one of the earliest watercolors by the artist in The Met collection, Homer depicts two boys lugging their haul across the beach. The smaller figure appears to eye the dead shark ahead, while his older companion looks back, seemingly at the sailboat behind them. These two details—the shark and the ship—cast a shadow on an otherwise bright scene, subtly gesturing to threats the youth of this fishing village might someday face at sea.', metadata={'title': 'A Basket of Clams', 'artist_display_name': 'Winslow Homer', 'build_date': '1873 - 1873', 'credit_line': 'Gift of Arthur G. Altschul, 1995', 'accessionyear': 1995.0, 'department': 'The American Wing', 'medium': 'Watercolor on wove paper', 'dimensions': '11 1/2 x 9 3/4 in. (29.2 x 24.8 cm)\\r\\n'}),\n",
       " Document(page_content='This large scale portrait of two famous vessels by the leading New York based painter of steamboats and sailing vessels on the New York City waterways, James Bard, represents his finest known work. In addition to its importance as a major maritime painting that captures the age of sail and steam, it is considered an icon of American folk art. The double portrait is set on the rough waters of New York Harbor with storm clouds and clear patches of blue sky above. The steam boat followed by the famous sailing vessel move at a similar rapid pace across the water creating sprays across the bow and sides of the boat. The steamboat Thomas Hunt is flying a series of seven flags that ripple in the wind, and include a large white flag with the initials of the steamboat \"T.H.\" on the bow, two maritime flags at center with images of a lobster and fish set against white, and at the stern a large red flag with the name \"Thomas Hunt\" emblazoned across it, and behind it, a large American flag. The ship’s captain A, H, Haggerty stands on the upper deck beneath a large carved and gilded American eagle. There are six other male figures dressed in the eccentric fashion of black suits and tall silk top hats that Bard preferred for his paintings. Several of the men are smoking cigars. Orange smoke emanates from the steam pipe and the brightly colored blue and red paddle wheel turns rapidly through the water. Painted across the paddle wheel is the name of the steam boat \"Thomas Hunt.\" The two-masted yacht America with its sleek proportions, glides across the water keeping up with the fast moving steamboat. It flies a flag emblazoned with its name \"America\" and beneath it a large American flag. The three sails are beautifully rendered showing the artist’s mastery of the details of his subject. Five male figures dressed in sailor attire, including red, white and blue stripped sweaters, are placed along the deck. The boats fill the composition, creating a celebratory air that honors the great advances made in the design and engineering of the steam and sailing vessels that plied the American waterways at mid-century.', metadata={'title': 'The Thomas Hunt and the America', 'artist_display_name': 'James Bard', 'build_date': '1852 - 1852', 'credit_line': 'Purchase, Dr. Ernest G. Stillman Fund, by exchange, 2019', 'accessionyear': 2019.0, 'department': 'The American Wing', 'medium': 'Oil on canvas', 'dimensions': '34 1/4 × 64 1/2 in. (87 × 163.8 cm)'}),\n",
       " Document(page_content='In about 1890 Cassatt redirected her art toward women caring for children and children alone—themes that reflected her affection for her nieces and nephews and the prevailing cultural interest in child rearing. Cassatt enlisted two unrelated models to enact the roles of mother and child for this painting. Louisine Havemeyer, who purchased it in 1901, remarked on its truthfulness: “Look at that little child that has just thrown herself against her mother’s knee, regardless of the result and oblivious to the fact that she could disturb ‘her mamma.’ And she is quite right, she does not disturb her mother. Mamma simply draws back a bit and continues to sew.”', metadata={'title': 'Young Mother Sewing', 'artist_display_name': 'Mary Cassatt', 'build_date': '1900 - 1900', 'credit_line': 'H.O. Havemeyer Collection, Bequest of Mrs. H.O. Havemeyer, 1929', 'accessionyear': 1929.0, 'department': 'The American Wing', 'medium': 'Oil on canvas', 'dimensions': '36 3/8 x 29 in. (92.4 x 73.7 cm)'})]"
      ]
     },
     "execution_count": 31,
     "metadata": {},
     "output_type": "execute_result"
    }
   ],
   "source": [
    "docs = retriever.get_relevant_documents(\"What is the name of the painting that represents 2 children holding a basket in front of a boat ?\")\n",
    "docs\n"
   ]
  },
  {
   "cell_type": "code",
   "execution_count": 222,
   "metadata": {},
   "outputs": [],
   "source": [
    "from langchain.chat_models import ChatOpenAI\n",
    "from langchain.chains import ConversationalRetrievalChain\n",
    "from langchain.callbacks.streaming_stdout import StreamingStdOutCallbackHandler\n",
    "from langchain.prompts.chat import (\n",
    "    ChatPromptTemplate,\n",
    "    SystemMessagePromptTemplate,\n",
    "    HumanMessagePromptTemplate,\n",
    ")\n",
    "\n",
    "## This is a LLM model that will be used to answer the user questions in a conversational manner\n",
    "template = \"\"\"You are the MET information bot.\n",
    "You will be given a corpus of documents from the MET museum.\n",
    "Basing yourself on the corpus of documents provided to you and the chat history, answer the user questions. \n",
    "Here is the corpus :{documents}\n",
    "Chat history : {chat_history}\n",
    "\"\"\"\n",
    "\n",
    "system_message_prompt = SystemMessagePromptTemplate.from_template(template)\n",
    "human_template = \"{query}\"\n",
    "human_message_prompt = HumanMessagePromptTemplate.from_template(human_template)\n",
    "\n",
    "query = input(\"Hi what can I do for you ?\")\n",
    "query_doc = True\n",
    "chat_history = []\n",
    "llm = ChatOpenAI(temperature = 0.0,streaming = True, callbacks=[StreamingStdOutCallbackHandler()])\n",
    "\n",
    "while query != \"quit\":\n",
    "    if query_doc:\n",
    "        candidate_documents = retriever.get_relevant_documents(query)\n",
    "        documents = \"\".join([f\"\\n\\nDocument : {i} \"+ \"\\n\" + \"Content : \" + doc.page_content + \"\\n\" + \"Metadata : \" + str(doc.metadata) for i,doc in enumerate(candidate_documents)])\n",
    "        query_doc = False\n",
    "    else : \n",
    "        ## Pass for the moment. // TODO : Add a chain to keep the relevant documents in memory and query others. \n",
    "        query_doc = False\n",
    "        pass\n",
    "    ## Create the discussion prompt\n",
    "    chat_prompt = ChatPromptTemplate.from_messages([system_message_prompt, human_message_prompt])\n",
    "    ## Query the model\n",
    "    result = llm(chat_prompt.format_prompt(chat_history=chat_history,documents=documents,query=query).to_messages())\n",
    "    ## Add the Question / Answer tuple to the chat history\n",
    "    chat_history.append((query,result.content))\n",
    "    ## Print the answer\n",
    "    query = input(result.content)\n"
   ]
  },
  {
   "cell_type": "code",
   "execution_count": 220,
   "metadata": {},
   "outputs": [
    {
     "name": "stdout",
     "output_type": "stream",
     "text": [
      "[Document(page_content='At Gloucester, Homer produced a series of watercolors focusing on the daily activities of local children, whether boating, helping with chores, or playing among the dunes and wharves. In A Basket of Clams, one of the earliest watercolors by the artist in The Met collection, Homer depicts two boys lugging their haul across the beach. The smaller figure appears to eye the dead shark ahead, while his older companion looks back, seemingly at the sailboat behind them. These two details—the shark and the ship—cast a shadow on an otherwise bright scene, subtly gesturing to threats the youth of this fishing village might someday face at sea.', metadata={'title': 'A Basket of Clams', 'artist_display_name': 'Winslow Homer', 'build_date': '1873 - 1873', 'credit_line': 'Gift of Arthur G. Altschul, 1995', 'accessionyear': 1995.0, 'department': 'The American Wing', 'medium': 'Watercolor on wove paper', 'dimensions': '11 1/2 x 9 3/4 in. (29.2 x 24.8 cm)\\r\\n'}), Document(page_content='This large scale portrait of two famous vessels by the leading New York based painter of steamboats and sailing vessels on the New York City waterways, James Bard, represents his finest known work. In addition to its importance as a major maritime painting that captures the age of sail and steam, it is considered an icon of American folk art. The double portrait is set on the rough waters of New York Harbor with storm clouds and clear patches of blue sky above. The steam boat followed by the famous sailing vessel move at a similar rapid pace across the water creating sprays across the bow and sides of the boat. The steamboat Thomas Hunt is flying a series of seven flags that ripple in the wind, and include a large white flag with the initials of the steamboat \"T.H.\" on the bow, two maritime flags at center with images of a lobster and fish set against white, and at the stern a large red flag with the name \"Thomas Hunt\" emblazoned across it, and behind it, a large American flag. The ship’s captain A, H, Haggerty stands on the upper deck beneath a large carved and gilded American eagle. There are six other male figures dressed in the eccentric fashion of black suits and tall silk top hats that Bard preferred for his paintings. Several of the men are smoking cigars. Orange smoke emanates from the steam pipe and the brightly colored blue and red paddle wheel turns rapidly through the water. Painted across the paddle wheel is the name of the steam boat \"Thomas Hunt.\" The two-masted yacht America with its sleek proportions, glides across the water keeping up with the fast moving steamboat. It flies a flag emblazoned with its name \"America\" and beneath it a large American flag. The three sails are beautifully rendered showing the artist’s mastery of the details of his subject. Five male figures dressed in sailor attire, including red, white and blue stripped sweaters, are placed along the deck. The boats fill the composition, creating a celebratory air that honors the great advances made in the design and engineering of the steam and sailing vessels that plied the American waterways at mid-century.', metadata={'title': 'The Thomas Hunt and the America', 'artist_display_name': 'James Bard', 'build_date': '1852 - 1852', 'credit_line': 'Purchase, Dr. Ernest G. Stillman Fund, by exchange, 2019', 'accessionyear': 2019.0, 'department': 'The American Wing', 'medium': 'Oil on canvas', 'dimensions': '34 1/4 × 64 1/2 in. (87 × 163.8 cm)'}), Document(page_content='In about 1890 Cassatt redirected her art toward women caring for children and children alone—themes that reflected her affection for her nieces and nephews and the prevailing cultural interest in child rearing. Cassatt enlisted two unrelated models to enact the roles of mother and child for this painting. Louisine Havemeyer, who purchased it in 1901, remarked on its truthfulness: “Look at that little child that has just thrown herself against her mother’s knee, regardless of the result and oblivious to the fact that she could disturb ‘her mamma.’ And she is quite right, she does not disturb her mother. Mamma simply draws back a bit and continues to sew.”', metadata={'title': 'Young Mother Sewing', 'artist_display_name': 'Mary Cassatt', 'build_date': '1900 - 1900', 'credit_line': 'H.O. Havemeyer Collection, Bequest of Mrs. H.O. Havemeyer, 1929', 'accessionyear': 1929.0, 'department': 'The American Wing', 'medium': 'Oil on canvas', 'dimensions': '36 3/8 x 29 in. (92.4 x 73.7 cm)'})]\n",
      "The name of the painting is \"A Basket of Clams\" by Winslow Homer.False. The answer to the user's query is \"It was painted in 1880.\"\n",
      "\"A Basket of Clams\" by Winslow Homer was painted in 1873.HERE\n",
      "[Document(page_content='Lush pinkish-red glazes, such as the “peach bloom” on this small vase, were first produced in the third quarter of the seventeenth century. Small vases in this shape have long been thought to belong to sets of eight or more accoutrements designed for a writing table. This is one of four vases, each with a subtly different shape, that were found among a set of implements. It is distinguished from the others by the three thin rings at the base of the neck. These sets, which may or may not actually have been used, were most likely intended for presentation as gifts to officials working at the court. As is often the case with works produced for the court, a six-character inscription on the base indicates that it was made during the reign of the Kangxi emperor (Da Qing Kangxi nian zhi). The style of writing of the Chinese characters, however, helps date the piece to the period from 1678 to 1688', metadata={'title': nan, 'artist_display_name': nan, 'build_date': '1713 - 1722', 'credit_line': 'Bequest of Benjamin Altman, 1913', 'accessionyear': 1914.0, 'department': 'Asian Art', 'medium': 'Porcelain with peach-bloom glaze (Jingdezhen ware)\\r\\n\\r\\n', 'dimensions': 'H. 7 3/4 in. (19.7 cm)'}), Document(page_content='Rows of graceful flowering plants are frequently used as a design element in Mughal art.  Here, they appear alongside coiled cloud bands and flying birds. The iron handles on either side of the box are a later addition that indicate that the box was used as a traveling chest.', metadata={'title': 'Flower-Style Box with Drawers', 'artist_display_name': nan, 'build_date': '1600 - 1699', 'credit_line': 'Fletcher Fund, 1976', 'accessionyear': 1976.0, 'department': 'Islamic Art', 'medium': 'Wood (poplar); overlaid with ebony inlaid with wood and incised, stained ivory', 'dimensions': 'H. 11 in. (27.9 cm)\\r\\nW. 21 5/8 in.(54.9 cm)'}), Document(page_content='Commissioned in honor of Edward Dean Adams, chairman of the board of the American Cotton Oil Company, this bejeweled and enameled gold vase was designed to resemble the cotton plant. The overall form and coloration emulate those of the bell-shaped cotton flower, and the rock-crystal cover represents the white boll. Upon the completion of the vase, Tiffany & Co. proudly produced a booklet detailing the process of its creation.', metadata={'title': 'The Adams Vase', 'artist_display_name': 'Paulding Farnham|Tiffany & Co.', 'build_date': '1893 - 1895', 'credit_line': 'Gift of Edward D. Adams, 1904', 'accessionyear': 1904.0, 'department': 'The American Wing', 'medium': 'Gold, amethysts, spessartites, tourmalines, fresh water pearls, quartzes, rock crystal, and enamel', 'dimensions': 'Overall: 19 7/16 x 13 x 9 1/4 in. (49.4 x 33 x 23.5 cm); 352 oz. 18 dwt. (10977 g)\\r\\nBody: H. 18 7/8 in. (47.9 cm)\\r\\nCover: 4 1/4 x 4 13/16 in. (10.8 x 12.2 cm); 19 oz. 6 dwt. (600.1 g)'})]\n",
      "The vase in the form of a cotton flower is called \"The Adams Vase\". It was commissioned in honor of Edward Dean Adams, chairman of the board of the American Cotton Oil Company, and was designed to resemble the cotton plant. It is made of gold, amethysts, spessartites, tourmalines, fresh water pearls, quartzes, rock crystal, and enamel. Tiffany & Co. produced a booklet detailing the process of its creation."
     ]
    }
   ],
   "source": [
    "from langchain import OpenAI, PromptTemplate, LLMChain\n",
    "from langchain.chat_models import ChatOpenAI\n",
    "from langchain.chains import ConversationalRetrievalChain\n",
    "from langchain.chains.summarize import load_summarize_chain\n",
    "from langchain.prompts.chat import (\n",
    "    ChatPromptTemplate,\n",
    "    SystemMessagePromptTemplate,\n",
    "    HumanMessagePromptTemplate,\n",
    ")\n",
    "\n",
    "## Prompt used for summarization\n",
    "summerization_template = \"\"\"Write a concise summary of the following\n",
    "{text}\n",
    "\"\"\"\n",
    "summerization_template = PromptTemplate(template=summerization_template, input_variables=[\"text\"])\n",
    "\n",
    "## Prompt used for the re-query guesser\n",
    "requery_template = \"\"\"Based on the following chat history  : \n",
    "{chat_history}\n",
    "and the user query :\n",
    "{query}\n",
    "Try to understand if the user is changing of topic and therefore we need to call the retriever again.\n",
    "Answer can't be something different than \"True\" or \"False\". \n",
    "\"\"\"\n",
    "requery_template = PromptTemplate(template=requery_template, input_variables=[\"chat_history\",\"query\"])\n",
    "\n",
    "## This is a LLM model that will be used to answer the user questions in a conversational manner\n",
    "template = \"\"\"You are the MET information bot.\n",
    "You will be given a corpus of documents from the MET museum.\n",
    "Basing yourself on the corpus of documents provided to you and the chat history, answer the user questions. \n",
    "Here is the corpus :{documents}\n",
    "Chat history : {chat_history}\n",
    "\"\"\"\n",
    "\n",
    "system_message_prompt = SystemMessagePromptTemplate.from_template(template)\n",
    "human_template = \"{query}\"\n",
    "human_message_prompt = HumanMessagePromptTemplate.from_template(human_template)\n",
    "\n",
    "query = input(\"Hi what can I do for you ?\")\n",
    "query_doc = True\n",
    "chat_history = []\n",
    "\n",
    "llm = ChatOpenAI(temperature = 0.0,streaming = True, callbacks=[StreamingStdOutCallbackHandler()])\n",
    "summerization_chain = load_summarize_chain(OpenAI(max_tokens=200), chain_type=\"stuff\", prompt=summerization_template)\n",
    "re_query_chain = LLMChain(llm=OpenAI(max_tokens=200), prompt=requery_template)\n",
    "while query != \"quit\":\n",
    "    if query_doc:\n",
    "        candidate_documents = retriever.get_relevant_documents(query)\n",
    "        print(candidate_documents)\n",
    "        documents = \"\".join([f\"\\n\\nDocument : {i} \"+ \"\\n\" + \"Content : \" + doc.page_content + \"\\n\" + \"Metadata : \" + str(doc.metadata) for i,doc in enumerate(candidate_documents)])\n",
    "        query_doc = False\n",
    "    else :\n",
    "        result = re_query_chain.run(chat_history=chat_history,query=query).strip()\n",
    "        if result == \"True\":\n",
    "            query_doc = True\n",
    "            continue\n",
    "        else:\n",
    "            query_doc = False\n",
    "        \n",
    "    ## Create the discussion prompt\n",
    "    chat_prompt = ChatPromptTemplate.from_messages([system_message_prompt, human_message_prompt])\n",
    "    ## Query the model\n",
    "    result = llm(chat_prompt.format_prompt(chat_history=chat_history,documents=documents,query=query).to_messages())\n",
    "    ## Add the Question / Answer tuple to the chat history\n",
    "    chat_history.append((query,result.content))\n",
    "    # chat_history = summerization_chain.run(candidate_documents)\n",
    "    # print(chat_history)\n",
    "    ## Print the answer\n",
    "    query = input(result.content)\n"
   ]
  },
  {
   "attachments": {},
   "cell_type": "markdown",
   "metadata": {},
   "source": [
    "## Evaluate"
   ]
  },
  {
   "attachments": {},
   "cell_type": "markdown",
   "metadata": {},
   "source": [
    "### With LLM"
   ]
  },
  {
   "cell_type": "code",
   "execution_count": 230,
   "metadata": {},
   "outputs": [],
   "source": [
    "# Generated examples\n",
    "from langchain.evaluation.qa import QAGenerateChain\n",
    "example_gen_chain = QAGenerateChain.from_llm(OpenAI())"
   ]
  },
  {
   "cell_type": "code",
   "execution_count": 231,
   "metadata": {},
   "outputs": [],
   "source": [
    "new_examples = example_gen_chain.apply_and_parse([{\"doc\": t} for t in docs[:5]])\n"
   ]
  },
  {
   "cell_type": "code",
   "execution_count": 232,
   "metadata": {},
   "outputs": [
    {
     "data": {
      "text/plain": [
       "[{'query': 'What is the overall form and coloration of the Adams Vase designed to resemble?',\n",
       "  'answer': 'The bell-shaped cotton flower.'},\n",
       " {'query': 'What is the build date of the Spindle-back armchair?',\n",
       "  'answer': '1640 - 1680'},\n",
       " {'query': 'Who is thought to have created the armchair described in the document?',\n",
       "  'answer': 'Gustave Herter'},\n",
       " {'query': 'What did Auguste Pottier train in before meeting William Stymus?',\n",
       "  'answer': 'Auguste Pottier trained as a sculptor in Paris.'},\n",
       " {'query': 'What type of glass was used to create the window?',\n",
       "  'answer': 'Leaded Favrile glass'}]"
      ]
     },
     "execution_count": 232,
     "metadata": {},
     "output_type": "execute_result"
    }
   ],
   "source": [
    "new_examples"
   ]
  },
  {
   "cell_type": "code",
   "execution_count": 233,
   "metadata": {},
   "outputs": [],
   "source": [
    "def chat_predict(question):\n",
    "    ## This is a LLM model that will be used to answer the user questions in a conversational manner\n",
    "    template = \"\"\"You are the MET information bot.\n",
    "    You will be given a corpus of documents from the MET museum.\n",
    "    Basing yourself on the corpus of documents provided to you and the chat history, answer the user questions. \n",
    "    Here is the corpus :{documents}\n",
    "    Chat history : {chat_history}\n",
    "    \"\"\"\n",
    "\n",
    "    system_message_prompt = SystemMessagePromptTemplate.from_template(template)\n",
    "    human_template = \"{query}\"\n",
    "    human_message_prompt = HumanMessagePromptTemplate.from_template(human_template)\n",
    "\n",
    "    query = question\n",
    "    query_doc = True\n",
    "    chat_history = []\n",
    "\n",
    "    llm = ChatOpenAI(temperature = 0.0,streaming = True, callbacks=[StreamingStdOutCallbackHandler()])\n",
    "    candidate_documents = retriever.get_relevant_documents(query)\n",
    "    documents = \"\".join([f\"\\n\\nDocument : {i} \"+ \"\\n\" + \"Content : \" + doc.page_content + \"\\n\" + \"Metadata : \" + str(doc.metadata) for i,doc in enumerate(candidate_documents)])\n",
    "            \n",
    "    ## Create the discussion prompt\n",
    "    chat_prompt = ChatPromptTemplate.from_messages([system_message_prompt, human_message_prompt])\n",
    "    ## Query the model\n",
    "    result = llm(chat_prompt.format_prompt(chat_history=chat_history,documents=documents,query=query).to_messages())\n",
    "    return result.content"
   ]
  },
  {
   "cell_type": "code",
   "execution_count": 240,
   "metadata": {},
   "outputs": [
    {
     "name": "stdout",
     "output_type": "stream",
     "text": [
      "The Adams Vase was designed to resemble the cotton plant, with the overall form and coloration emulating those of the bell-shaped cotton flower, and the rock-crystal cover representing the white boll.I'm sorry, I don't have any information about a Spindle-back armchair in my corpus. Could you please provide more details or context about the chair you are referring to?The document does not describe an armchair, but it does mention a suite of seating furniture that includes a pair of armchairs and ten side chairs. The set is attributed to Duncan Phyfe based on the traditional history of ownership and the skillful execution of the details.Auguste Pottier trained as a sculptor in Paris before meeting William Stymus.In document 0, it is mentioned that the window was created solely with glass, using the full range developed at Tiffany Studios. The medium used for the window in document 0 is Leaded Favrile glass."
     ]
    }
   ],
   "source": [
    "predictions = []\n",
    "for example in new_examples:\n",
    "    predictions.append({\"query\":example[\"query\"],\"answer\":example[\"answer\"],\"result\":chat_predict(example[\"query\"])})\n"
   ]
  },
  {
   "cell_type": "code",
   "execution_count": 241,
   "metadata": {},
   "outputs": [
    {
     "data": {
      "text/plain": [
       "[{'query': 'What is the overall form and coloration of the Adams Vase designed to resemble?',\n",
       "  'answer': 'The bell-shaped cotton flower.',\n",
       "  'result': 'The Adams Vase was designed to resemble the cotton plant, with the overall form and coloration emulating those of the bell-shaped cotton flower, and the rock-crystal cover representing the white boll.'},\n",
       " {'query': 'What is the build date of the Spindle-back armchair?',\n",
       "  'answer': '1640 - 1680',\n",
       "  'result': \"I'm sorry, I don't have any information about a Spindle-back armchair in my corpus. Could you please provide more details or context about the chair you are referring to?\"},\n",
       " {'query': 'Who is thought to have created the armchair described in the document?',\n",
       "  'answer': 'Gustave Herter',\n",
       "  'result': 'The document does not describe an armchair, but it does mention a suite of seating furniture that includes a pair of armchairs and ten side chairs. The set is attributed to Duncan Phyfe based on the traditional history of ownership and the skillful execution of the details.'},\n",
       " {'query': 'What did Auguste Pottier train in before meeting William Stymus?',\n",
       "  'answer': 'Auguste Pottier trained as a sculptor in Paris.',\n",
       "  'result': 'Auguste Pottier trained as a sculptor in Paris before meeting William Stymus.'},\n",
       " {'query': 'What type of glass was used to create the window?',\n",
       "  'answer': 'Leaded Favrile glass',\n",
       "  'result': 'In document 0, it is mentioned that the window was created solely with glass, using the full range developed at Tiffany Studios. The medium used for the window in document 0 is Leaded Favrile glass.'}]"
      ]
     },
     "execution_count": 241,
     "metadata": {},
     "output_type": "execute_result"
    }
   ],
   "source": [
    "predictions"
   ]
  },
  {
   "cell_type": "code",
   "execution_count": 242,
   "metadata": {},
   "outputs": [],
   "source": [
    "from langchain.evaluation.qa import QAEvalChain\n",
    "eval_chain = QAEvalChain.from_llm(llm = OpenAI(temperature=0))\n",
    "graded_outputs = eval_chain.evaluate(new_examples, predictions)\n"
   ]
  },
  {
   "cell_type": "code",
   "execution_count": 243,
   "metadata": {},
   "outputs": [
    {
     "name": "stdout",
     "output_type": "stream",
     "text": [
      "Example 0:\n",
      "Question: What is the overall form and coloration of the Adams Vase designed to resemble?\n",
      "Real Answer: The bell-shaped cotton flower.\n",
      "Predicted Answer: The Adams Vase was designed to resemble the cotton plant, with the overall form and coloration emulating those of the bell-shaped cotton flower, and the rock-crystal cover representing the white boll.\n",
      "Predicted Grade:  CORRECT\n",
      "\n",
      "Example 1:\n",
      "Question: What is the build date of the Spindle-back armchair?\n",
      "Real Answer: 1640 - 1680\n",
      "Predicted Answer: I'm sorry, I don't have any information about a Spindle-back armchair in my corpus. Could you please provide more details or context about the chair you are referring to?\n",
      "Predicted Grade:  INCORRECT\n",
      "\n",
      "Example 2:\n",
      "Question: Who is thought to have created the armchair described in the document?\n",
      "Real Answer: Gustave Herter\n",
      "Predicted Answer: The document does not describe an armchair, but it does mention a suite of seating furniture that includes a pair of armchairs and ten side chairs. The set is attributed to Duncan Phyfe based on the traditional history of ownership and the skillful execution of the details.\n",
      "Predicted Grade:  INCORRECT\n",
      "\n",
      "Example 3:\n",
      "Question: What did Auguste Pottier train in before meeting William Stymus?\n",
      "Real Answer: Auguste Pottier trained as a sculptor in Paris.\n",
      "Predicted Answer: Auguste Pottier trained as a sculptor in Paris before meeting William Stymus.\n",
      "Predicted Grade:  CORRECT\n",
      "\n",
      "Example 4:\n",
      "Question: What type of glass was used to create the window?\n",
      "Real Answer: Leaded Favrile glass\n",
      "Predicted Answer: In document 0, it is mentioned that the window was created solely with glass, using the full range developed at Tiffany Studios. The medium used for the window in document 0 is Leaded Favrile glass.\n",
      "Predicted Grade:  CORRECT\n",
      "\n"
     ]
    }
   ],
   "source": [
    "for i, eg in enumerate(new_examples):\n",
    "    print(f\"Example {i}:\")\n",
    "    print(\"Question: \" + predictions[i]['query'])\n",
    "    print(\"Real Answer: \" + predictions[i]['answer'])\n",
    "    print(\"Predicted Answer: \" + predictions[i]['result'])\n",
    "    print(\"Predicted Grade: \" + graded_outputs[i]['text'])\n",
    "    print()"
   ]
  },
  {
   "attachments": {},
   "cell_type": "markdown",
   "metadata": {},
   "source": [
    "### With Critique"
   ]
  },
  {
   "cell_type": "code",
   "execution_count": 244,
   "metadata": {},
   "outputs": [],
   "source": [
    "import inspiredco.critique\n",
    "import os\n",
    "critique = inspiredco.critique.Critique(api_key=\"_AH-tvFDWAemlvh918HhehlQlbyfrIcAvfMF745uZIiMv6ZUj-ROt1h8PKGqNLhrvgTLGneuIXzWBpdhj4UfMg==\")"
   ]
  },
  {
   "cell_type": "code",
   "execution_count": 245,
   "metadata": {},
   "outputs": [],
   "source": [
    "metrics = {\n",
    "    \"rouge\": {\n",
    "        \"metric\": \"rouge\",\n",
    "        \"config\": {\"variety\": \"rouge_l\"},\n",
    "    },\n",
    "    \"chrf\": {\n",
    "        \"metric\": \"chrf\",\n",
    "        \"config\": {},\n",
    "    },\n",
    "    \"bert_score\": {\n",
    "        \"metric\": \"bert_score\",\n",
    "        \"config\": {\"model\": \"bert-base-uncased\"},\n",
    "    },\n",
    "    \"uni_eval\": {\n",
    "        \"metric\": \"uni_eval\",\n",
    "        \"config\": {\"task\": \"summarization\", \"evaluation_aspect\": \"relevance\"},\n",
    "    },\n",
    "}"
   ]
  },
  {
   "cell_type": "code",
   "execution_count": 246,
   "metadata": {},
   "outputs": [],
   "source": [
    "critique_data = [\n",
    "    {\"target\": pred['result'], \"references\": [pred['answer']]} for pred in predictions\n",
    "]\n",
    "eval_results = {\n",
    "    k: critique.evaluate(dataset=critique_data, metric=v[\"metric\"], config=v[\"config\"])\n",
    "    for k, v in metrics.items()\n",
    "}"
   ]
  },
  {
   "cell_type": "code",
   "execution_count": 248,
   "metadata": {},
   "outputs": [
    {
     "name": "stdout",
     "output_type": "stream",
     "text": [
      "Example 0:\n",
      "Question: What is the overall form and coloration of the Adams Vase designed to resemble?\n",
      "Real Answer: The bell-shaped cotton flower.\n",
      "Predicted Answer: The Adams Vase was designed to resemble the cotton plant, with the overall form and coloration emulating those of the bell-shaped cotton flower, and the rock-crystal cover representing the white boll.\n",
      "Predicted Scores: rouge=0.2632, chrf=0.4357, bert_score=0.6114, uni_eval=0.8846\n",
      "Predicted Grade:  CORRECT\n",
      "\n",
      "Example 1:\n",
      "Question: What is the build date of the Spindle-back armchair?\n",
      "Real Answer: 1640 - 1680\n",
      "Predicted Answer: I'm sorry, I don't have any information about a Spindle-back armchair in my corpus. Could you please provide more details or context about the chair you are referring to?\n",
      "Predicted Scores: rouge=0.0000, chrf=0.0047, bert_score=0.2496, uni_eval=0.8094\n",
      "Predicted Grade:  INCORRECT\n",
      "\n",
      "Example 2:\n",
      "Question: Who is thought to have created the armchair described in the document?\n",
      "Real Answer: Gustave Herter\n",
      "Predicted Answer: The document does not describe an armchair, but it does mention a suite of seating furniture that includes a pair of armchairs and ten side chairs. The set is attributed to Duncan Phyfe based on the traditional history of ownership and the skillful execution of the details.\n",
      "Predicted Scores: rouge=0.0000, chrf=0.0419, bert_score=0.3433, uni_eval=0.7657\n",
      "Predicted Grade:  INCORRECT\n",
      "\n",
      "Example 3:\n",
      "Question: What did Auguste Pottier train in before meeting William Stymus?\n",
      "Real Answer: Auguste Pottier trained as a sculptor in Paris.\n",
      "Predicted Answer: Auguste Pottier trained as a sculptor in Paris before meeting William Stymus.\n",
      "Predicted Scores: rouge=0.8000, chrf=0.8621, bert_score=0.8567, uni_eval=0.7428\n",
      "Predicted Grade:  CORRECT\n",
      "\n",
      "Example 4:\n",
      "Question: What type of glass was used to create the window?\n",
      "Real Answer: Leaded Favrile glass\n",
      "Predicted Answer: In document 0, it is mentioned that the window was created solely with glass, using the full range developed at Tiffany Studios. The medium used for the window in document 0 is Leaded Favrile glass.\n",
      "Predicted Scores: rouge=0.1579, chrf=0.3465, bert_score=0.5700, uni_eval=0.8920\n",
      "Predicted Grade:  CORRECT\n",
      "\n"
     ]
    }
   ],
   "source": [
    "for i, eg in enumerate(new_examples):\n",
    "    score_string = \", \".join([f\"{k}={v['examples'][i]['value']:.4f}\" for k, v in eval_results.items()])\n",
    "    print(f\"Example {i}:\")\n",
    "    print(\"Question: \" + predictions[i]['query'])\n",
    "    print(\"Real Answer: \" + predictions[i]['answer'])\n",
    "    print(\"Predicted Answer: \" + predictions[i]['result'])\n",
    "    print(\"Predicted Scores: \" + score_string)\n",
    "    print(\"Predicted Grade: \" + graded_outputs[i]['text'])\n",
    "\n",
    "    print()"
   ]
  }
 ],
 "metadata": {
  "kernelspec": {
   "display_name": "venv",
   "language": "python",
   "name": "python3"
  },
  "language_info": {
   "codemirror_mode": {
    "name": "ipython",
    "version": 3
   },
   "file_extension": ".py",
   "mimetype": "text/x-python",
   "name": "python",
   "nbconvert_exporter": "python",
   "pygments_lexer": "ipython3",
   "version": "3.9.16"
  },
  "orig_nbformat": 4
 },
 "nbformat": 4,
 "nbformat_minor": 2
}
